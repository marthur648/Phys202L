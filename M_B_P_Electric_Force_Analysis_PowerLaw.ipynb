{
  "cells": [
    {
      "cell_type": "markdown",
      "metadata": {
        "id": "view-in-github",
        "colab_type": "text"
      },
      "source": [
        "<a href=\"https://colab.research.google.com/github/marthur648/Phys202L/blob/main/M_B_P_Electric_Force_Analysis_PowerLaw.ipynb\" target=\"_parent\"><img src=\"https://colab.research.google.com/assets/colab-badge.svg\" alt=\"Open In Colab\"/></a>"
      ]
    },
    {
      "cell_type": "markdown",
      "metadata": {
        "id": "1PPGjnSALl3N"
      },
      "source": [
        "# Lab 3:  Electric Force"
      ]
    },
    {
      "cell_type": "code",
      "execution_count": null,
      "metadata": {
        "id": "kv_9IDTxLl3T"
      },
      "outputs": [],
      "source": [
        "import numpy as np\n",
        "import pandas as pd\n",
        "import matplotlib.pyplot as plt\n",
        "import scipy.stats as stats\n",
        "\n",
        "# The following lines make plots in dark mode look reasonable.  If you are not using dark\n",
        "# mode you don't need them, but you can also just leave them here and it should work fine.\n",
        "\n",
        "dark_mode = False\n",
        "# plotting choices for dark-mode\n",
        "if (dark_mode):\n",
        "    from jupyterthemes import jtplot\n",
        "    jtplot.style(theme='monokai', context='notebook', ticks=True, grid=False)\n",
        "    linecolor = 'w'\n",
        "else:\n",
        "    linecolor = 'k'"
      ]
    },
    {
      "cell_type": "markdown",
      "metadata": {
        "id": "IOjp6mQNLl3V"
      },
      "source": [
        "# Determining the Path of Electrons"
      ]
    },
    {
      "cell_type": "code",
      "execution_count": null,
      "metadata": {
        "id": "8I9r4JqpLl3W",
        "outputId": "a2e84fe9-2a32-4b4d-f3b5-41f59d401b1b",
        "colab": {
          "base_uri": "https://localhost:8080/"
        }
      },
      "outputs": [
        {
          "output_type": "stream",
          "name": "stdout",
          "text": [
            "Accelerating voltage = 4.5 kV:\n",
            " x_cm  dx_cm  y_cm  dy_cm\n",
            "  2.0  0.005  0.00  0.005\n",
            "  3.0  0.005  0.15  0.005\n",
            "  4.0  0.005  0.23  0.005\n",
            "  5.0  0.005  0.40  0.005\n",
            "  6.0  0.005  0.60  0.005\n",
            "  7.0  0.005  0.90  0.005\n",
            "  8.0  0.005  1.21  0.005\n",
            "  9.0  0.005  1.60  0.005\n",
            " 10.0  0.005  2.00  0.005\n",
            "\n",
            "Accelerating voltage = 3.5 kV:\n",
            " x_cm  dx_cm  y_cm  dy_cm\n",
            "  2.0  0.005  0.00  0.005\n",
            "  2.5  0.005  0.01  0.005\n",
            "  3.0  0.005  0.15  0.005\n",
            "  3.5  0.005  0.20  0.005\n",
            "  4.0  0.005  0.30  0.005\n",
            "  4.5  0.005  0.40  0.005\n",
            "  5.0  0.005  0.55  0.005\n",
            "  5.5  0.005  0.60  0.005\n",
            "  6.0  0.005  0.80  0.005\n",
            "  6.5  0.005  1.00  0.005\n",
            "  7.0  0.005  1.20  0.005\n",
            "  7.5  0.005  1.40  0.005\n",
            "  8.0  0.005  1.60  0.005\n",
            "  8.5  0.005  1.80  0.005\n",
            "  9.0  0.005  2.10  0.005\n",
            "  9.5  0.005  2.25  0.005\n",
            " 10.0  0.005  2.60  0.005\n",
            "\n",
            "Accelerating voltage = 2.5 kV:\n",
            " x_cm  dx_cm  y_cm  dy_cm\n",
            "  2.0  0.005  0.10  0.005\n",
            "  2.5  0.005  0.15  0.005\n",
            "  3.0  0.005  0.20  0.005\n",
            "  3.5  0.005  0.25  0.005\n",
            "  4.0  0.005  0.40  0.005\n",
            "  4.5  0.005  0.60  0.005\n",
            "  5.0  0.005  0.75  0.005\n",
            "  5.5  0.005  0.89  0.005\n",
            "  6.0  0.005  1.20  0.005\n",
            "  6.5  0.005  1.50  0.005\n",
            "  7.0  0.005  1.70  0.005\n",
            "  7.5  0.005  2.00  0.005\n",
            "  8.0  0.005  2.30  0.005\n",
            "  8.5  0.005  2.70  0.005\n"
          ]
        }
      ],
      "source": [
        "# Create a Pandas DataFrame with data for part 1\n",
        "\n",
        "# The data elements are [x_cm, dx_cm, y_cm, dy_cm]\n",
        "\n",
        "data1 = [[2.00,0.005,0.00,0.005], [3.00,0.005,0.15,0.005], [4.00,0.005,0.23,0.005], [5.00,0.005,0.4,0.005], [6.00,0.005,0.6,0.005], [7.00,0.005,0.9,0.005],\n",
        "         [8.00,0.005,1.21,0.005],  [9.00,0.005,1.6,0.005], [10.00,0.005,2.0,0.005]]\n",
        "# create dataframe\n",
        "df1 = pd.DataFrame(data1, columns = ['x_cm', 'dx_cm','y_cm','dy_cm'])\n",
        "\n",
        "print('Accelerating voltage = 4.5 kV:')\n",
        "print(df1.to_string(index=False))\n",
        "\n",
        "data2 = [[2.00,0.005,0.00,0.005], [2.50,0.005,0.01,0.005], [3.00,0.005,0.15,0.005], [3.5,0.005,0.2,0.005], [4.0,0.005,0.3,0.005], [4.50,0.005,0.4,0.005],  [5.00,0.005,0.55,0.005],\n",
        "         [5.50,0.005,0.60,0.005],  [6.0,0.005,0.80,0.005], [6.5,0.005,1.0,0.005], [7.0,0.005,1.2,0.005], [7.50,0.005,1.4,0.005], [8.00,0.005,1.60,0.005], \n",
        "         [8.50,0.005,1.80,0.005], [9.00,0.005,2.10,0.005], [9.50, 0.005, 2.25, 0.005], [10.00, 0.005, 2.6, 0.005]]\n",
        "# create dataframe\n",
        "df2 = pd.DataFrame(data2, columns = ['x_cm', 'dx_cm','y_cm','dy_cm'])\n",
        "\n",
        "print()\n",
        "print('Accelerating voltage = 3.5 kV:')\n",
        "print(df2.to_string(index=False))\n",
        "\n",
        "data3 = [[2.00,0.005,0.10,0.005], [2.50,0.005,0.15,0.005], [3.00,0.005,0.20,0.005], [3.5,0.005,0.25,0.005], [4.0,0.005,0.40,0.005], [4.50,0.005,0.60,0.005],  [5.00,0.005,0.75,0.005],\n",
        "         [5.50,0.005,0.89,0.005],  [6.0,0.005,1.20,0.005], [6.5,0.005,1.50,0.005], [7.0,0.005,1.70,0.005], [7.50,0.005,2.0,0.005], [8.00,0.005,2.30,0.005], \n",
        "         [8.50,0.005,2.70,0.005]]\n",
        "# create dataframe\n",
        "df3 = pd.DataFrame(data3, columns = ['x_cm', 'dx_cm','y_cm','dy_cm'])\n",
        "\n",
        "print()\n",
        "print('Accelerating voltage = 2.5 kV:')\n",
        "print(df3.to_string(index=False))"
      ]
    },
    {
      "cell_type": "code",
      "execution_count": null,
      "metadata": {
        "id": "Lhgsk8H7Ll3Y",
        "outputId": "f9275542-406f-4486-d924-fa94b1e642fc",
        "colab": {
          "base_uri": "https://localhost:8080/"
        }
      },
      "outputs": [
        {
          "output_type": "stream",
          "name": "stdout",
          "text": [
            "Accelerating voltage = 4.5 kV:\n",
            " x_cm  dx_cm  y_cm  dy_cm    x      dx      y      dy\n",
            "  2.0  0.005  0.00  0.005 0.02 0.00005 0.0000 0.00005\n",
            "  3.0  0.005  0.15  0.005 0.03 0.00005 0.0015 0.00005\n",
            "  4.0  0.005  0.23  0.005 0.04 0.00005 0.0023 0.00005\n",
            "  5.0  0.005  0.40  0.005 0.05 0.00005 0.0040 0.00005\n",
            "  6.0  0.005  0.60  0.005 0.06 0.00005 0.0060 0.00005\n",
            "  7.0  0.005  0.90  0.005 0.07 0.00005 0.0090 0.00005\n",
            "  8.0  0.005  1.21  0.005 0.08 0.00005 0.0121 0.00005\n",
            "  9.0  0.005  1.60  0.005 0.09 0.00005 0.0160 0.00005\n",
            " 10.0  0.005  2.00  0.005 0.10 0.00005 0.0200 0.00005\n",
            "\n",
            "Accelerating voltage = 3.5 kV:\n",
            " x_cm  dx_cm  y_cm  dy_cm     x      dx      y      dy\n",
            "  2.0  0.005  0.00  0.005 0.020 0.00005 0.0000 0.00005\n",
            "  2.5  0.005  0.01  0.005 0.025 0.00005 0.0001 0.00005\n",
            "  3.0  0.005  0.15  0.005 0.030 0.00005 0.0015 0.00005\n",
            "  3.5  0.005  0.20  0.005 0.035 0.00005 0.0020 0.00005\n",
            "  4.0  0.005  0.30  0.005 0.040 0.00005 0.0030 0.00005\n",
            "  4.5  0.005  0.40  0.005 0.045 0.00005 0.0040 0.00005\n",
            "  5.0  0.005  0.55  0.005 0.050 0.00005 0.0055 0.00005\n",
            "  5.5  0.005  0.60  0.005 0.055 0.00005 0.0060 0.00005\n",
            "  6.0  0.005  0.80  0.005 0.060 0.00005 0.0080 0.00005\n",
            "  6.5  0.005  1.00  0.005 0.065 0.00005 0.0100 0.00005\n",
            "  7.0  0.005  1.20  0.005 0.070 0.00005 0.0120 0.00005\n",
            "  7.5  0.005  1.40  0.005 0.075 0.00005 0.0140 0.00005\n",
            "  8.0  0.005  1.60  0.005 0.080 0.00005 0.0160 0.00005\n",
            "  8.5  0.005  1.80  0.005 0.085 0.00005 0.0180 0.00005\n",
            "  9.0  0.005  2.10  0.005 0.090 0.00005 0.0210 0.00005\n",
            "  9.5  0.005  2.25  0.005 0.095 0.00005 0.0225 0.00005\n",
            " 10.0  0.005  2.60  0.005 0.100 0.00005 0.0260 0.00005\n",
            "\n",
            "Accelerating voltage = 2.5 kV:\n",
            " x_cm  dx_cm  y_cm  dy_cm     x      dx      y      dy\n",
            "  2.0  0.005  0.10  0.005 0.020 0.00005 0.0010 0.00005\n",
            "  2.5  0.005  0.15  0.005 0.025 0.00005 0.0015 0.00005\n",
            "  3.0  0.005  0.20  0.005 0.030 0.00005 0.0020 0.00005\n",
            "  3.5  0.005  0.25  0.005 0.035 0.00005 0.0025 0.00005\n",
            "  4.0  0.005  0.40  0.005 0.040 0.00005 0.0040 0.00005\n",
            "  4.5  0.005  0.60  0.005 0.045 0.00005 0.0060 0.00005\n",
            "  5.0  0.005  0.75  0.005 0.050 0.00005 0.0075 0.00005\n",
            "  5.5  0.005  0.89  0.005 0.055 0.00005 0.0089 0.00005\n",
            "  6.0  0.005  1.20  0.005 0.060 0.00005 0.0120 0.00005\n",
            "  6.5  0.005  1.50  0.005 0.065 0.00005 0.0150 0.00005\n",
            "  7.0  0.005  1.70  0.005 0.070 0.00005 0.0170 0.00005\n",
            "  7.5  0.005  2.00  0.005 0.075 0.00005 0.0200 0.00005\n",
            "  8.0  0.005  2.30  0.005 0.080 0.00005 0.0230 0.00005\n",
            "  8.5  0.005  2.70  0.005 0.085 0.00005 0.0270 0.00005\n"
          ]
        }
      ],
      "source": [
        "df1['x'] = 0.01*(df1['x_cm'])\n",
        "df1['dx'] = 0.01*df1['dx_cm']\n",
        "df1['y'] = 0.01*df1['y_cm']\n",
        "df1['dy'] = 0.01*df1['dy_cm']\n",
        "\n",
        "print('Accelerating voltage = 4.5 kV:')\n",
        "print(df1.to_string(index=False))\n",
        "\n",
        "df2['x'] = 0.01*(df2['x_cm'])\n",
        "df2['dx'] = 0.01*df2['dx_cm']\n",
        "df2['y'] = 0.01*df2['y_cm']\n",
        "df2['dy'] = 0.01*df2['dy_cm']\n",
        "\n",
        "print()\n",
        "print('Accelerating voltage = 3.5 kV:')\n",
        "print(df2.to_string(index=False))\n",
        "\n",
        "df3['x'] = 0.01*(df3['x_cm'])\n",
        "df3['dx'] = 0.01*df3['dx_cm']\n",
        "df3['y'] = 0.01*df3['y_cm']\n",
        "df3['dy'] = 0.01*df3['dy_cm']\n",
        "\n",
        "print()\n",
        "print('Accelerating voltage = 2.5 kV:')\n",
        "print(df3.to_string(index=False))"
      ]
    },
    {
      "cell_type": "code",
      "execution_count": null,
      "metadata": {
        "id": "oxj2PunFLl3a",
        "outputId": "db0f2548-6844-47bd-982c-243d4c463a38",
        "colab": {
          "base_uri": "https://localhost:8080/",
          "height": 670
        }
      },
      "outputs": [
        {
          "output_type": "stream",
          "name": "stdout",
          "text": [
            "Beta: [ 4.54812417e+00 -1.02068796e-02  2.44272695e+00 -6.78017959e-04]\n",
            "Beta Std Error: [4.97098110e+00 4.08950229e-02 8.71506509e-01 1.35928701e-03]\n",
            "Beta Covariance: [[ 9.62192477e-01 -7.76155716e-03  1.68100236e-01 -2.42810847e-04]\n",
            " [-7.76155716e-03  6.51206378e-05 -1.37867893e-03  2.11506419e-06]\n",
            " [ 1.68100236e-01 -1.37867893e-03  2.95746085e-02 -4.38021304e-05]\n",
            " [-2.42810847e-04  2.11506419e-06 -4.38021304e-05  7.19449087e-08]]\n",
            "Residual Variance: 25.681611160919648\n",
            "Inverse Condition #: 0.00022331512628633306\n",
            "Reason(s) for Halting:\n",
            "  Sum of squares convergence\n"
          ]
        },
        {
          "output_type": "stream",
          "name": "stderr",
          "text": [
            "/usr/local/lib/python3.7/dist-packages/ipykernel_launcher.py:17: RuntimeWarning: invalid value encountered in power\n"
          ]
        },
        {
          "output_type": "stream",
          "name": "stdout",
          "text": [
            "\n",
            "Final Result: Y = (4.5481 +/- 4.9710)(X - (-0.0102 +/- 0.0409))^(2.4427 +/- 0.8715) + (-0.0007 +/- 0.0014)\n"
          ]
        },
        {
          "output_type": "display_data",
          "data": {
            "image/png": "[encoded data removed]",
            "text/plain": [
              "<Figure size 640x480 with 1 Axes>"
            ]
          },
          "metadata": {
            "needs_background": "light"
          }
        }
      ],
      "source": [
        "xi = df1['x']\n",
        "yi = df1['y']\n",
        "sigmaxi = df1['dx']\n",
        "sigmayi = df1['dy']\n",
        "\n",
        "##############################\n",
        "\n",
        "from scipy.odr import *\n",
        "\n",
        "def fitfunction(B, x):\n",
        "    '''Non-Linear function y = a*(x-c)^b+d'''\n",
        "    # B is a vector of the parameters.\n",
        "    # x is an array of the current x values.\n",
        "    # x is in the same format as the x passed to Data or RealData.\n",
        "    #\n",
        "    # Return an array in the same format as y passed to Data or RealData\n",
        "    return B[0]*(x-B[1])**B[2] + B[3]\n",
        "\n",
        "linear = Model(fitfunction) # create a Model object based on the fitfuncion we have defined\n",
        "mydata = RealData(xi, yi, sx=sigmaxi, sy=sigmayi) # create a data object based on our data, include errors.\n",
        "myodr = ODR(mydata, linear, beta0=[2.55, -0.05, 1.8, 0.0002]) # create a fitting object, based on the data, fit Model, and an intial set of parameters.\n",
        "myoutput = myodr.run()  # run the fitting process to get optimized parameters!\n",
        "\n",
        "myoutput.pprint() # print out the result of the fit\n",
        "\n",
        "# Now assign the important fit results to some more convenient variables.\n",
        "\n",
        "popt = myoutput.beta # the vector of optimized parameters\n",
        "pcov = myoutput.cov_beta # the covariance matrix\n",
        "perr = myoutput.sd_beta # the vector of ERRORS in the optimized parameters\n",
        "\n",
        "# The following lines generate upper and lower 99% \"Confidence Bands\" on the fit, for visualization\n",
        "# purposes.\n",
        "\n",
        "ps = np.random.multivariate_normal(popt,pcov,10000)\n",
        "xl = np.linspace(xi[0],xi[len(xi)-1],100)\n",
        "ysample=np.asarray([fitfunction(pl,xl) for pl in ps])\n",
        "ysample = np.nan_to_num(ysample)\n",
        "\n",
        "lower = np.percentile(ysample,16.0,axis=0)\n",
        "upper = np.percentile(ysample,84.0,axis=0)\n",
        "middle = (lower+upper)/2.0\n",
        "\n",
        "yfit = fitfunction(popt,xl)\n",
        "\n",
        "print()\n",
        "print (\"Final Result: Y = (%0.4f +/- %0.4f)(X - (%0.4f +/- %0.4f))^(%0.4f +/- %0.4f) + (%0.4f +/- %0.4f)\" % (popt[0],perr[0],popt[1],perr[1],popt[2],perr[2],popt[3],perr[3]))\n",
        "\n",
        "plt.figure(figsize=(8, 6), dpi=80)\n",
        "plt.errorbar(xi, yi, xerr=sigmaxi, yerr=sigmayi, fmt='o', capsize=2, capthick=1)\n",
        "\n",
        "#plt.plot(xl,middle)\n",
        "#plt.plot(xl,lower)\n",
        "#plt.plot(xl,upper)\n",
        "plt.plot(xl,yfit)\n",
        "\n",
        "#########################\n",
        "\n",
        "plt.xlabel('Horizonatal Distance (meters)')\n",
        "plt.ylabel('Vertical Distance (meters)')\n",
        "plt.title('Determining the Electron Path (Accelerating Voltage = 4.5 kV)')\n",
        "plt.show()"
      ]
    },
    {
      "cell_type": "markdown",
      "metadata": {
        "id": "CvWJ_zZeLl3b"
      },
      "source": [
        "## Analysis of Electron Path:   Accelerating Voltage = 4.5 kV\n",
        "\n",
        "First of all, we see that the fit is non-linear, as expected, and appears to be roughly quadratic.\n",
        "\n",
        "From the theory, we expect:\n",
        "\n",
        "$y = C(x-x_i)^\\alpha + y_i$\n",
        "\n",
        "where:\n",
        "\n",
        "$C = \\frac{V_p}{4 d_{eff} V_a}$\n",
        "\n",
        "We see that the coefficient C is $(4.548 \\pm 4.9)$.\n",
        "\n",
        "The theory predicts that this coefficient should be equal to: $\\frac{V_p}{4 d_{eff} V_a}$.  Thus, we can calculate that:\n",
        "\n",
        "$d_{eff} = \\frac{V_p}{4 C V_a}$\n",
        "\n",
        "and \n",
        "\n",
        "$ \\delta(d_{eff}) = d_{eff} \\left( \\frac{\\delta(V_p)}{V_p} + \\frac{\\delta(V_a)}{V_a} + \\frac{\\delta(C)}{C} \\right) $\n",
        "\n",
        "\n",
        "In addition, $\\alpha$, is $(2.44 \\pm 0.872)$ which is relatively far from 2 which was the value of $\\alpha$ that was assummed in the original equation."
      ]
    },
    {
      "cell_type": "code",
      "execution_count": null,
      "metadata": {
        "id": "nA-nkVfULl3c",
        "outputId": "7a25239c-f74a-4f3f-97b0-f52d605bb0e2",
        "colab": {
          "base_uri": "https://localhost:8080/"
        }
      },
      "outputs": [
        {
          "output_type": "stream",
          "name": "stdout",
          "text": [
            "d$_{eff} = (0.044 +/- 0.049)\n",
            "xi = (-0.01021 +/- 0.04090)\n",
            "yi = (-0.00068 +/- 0.00136)\n",
            "alpha = (2.44273 +/- 0.87151)\n"
          ]
        }
      ],
      "source": [
        "Va = 4.50\n",
        "dVa = 0.01\n",
        "Vp = 3.64\n",
        "dVp = 0.01\n",
        "C = popt[0]\n",
        "dC = perr[0]\n",
        "x_i1 = popt[1]\n",
        "dx_i1 = perr[1]\n",
        "alpha1 = popt[2]\n",
        "dalpha1 = perr[2]\n",
        "y_i1 = popt[3]\n",
        "dy_i1 = perr[3]\n",
        "\n",
        "deff1 = Vp/(4*C*Va)\n",
        "\n",
        "ddeff1 = deff1*(dVp/Vp+dVa/Va+dC/C)\n",
        "\n",
        "print('d$_{eff} = (%0.3f +/- %0.3f)' % (deff1,ddeff1))\n",
        "\n",
        "print('xi = (%0.5f +/- %0.5f)' % (x_i1,dx_i1))\n",
        "print('yi = (%0.5f +/- %0.5f)' % (y_i1,dy_i1))\n",
        "print('alpha = (%0.5f +/- %0.5f)' % (alpha1,dalpha1))"
      ]
    },
    {
      "cell_type": "code",
      "execution_count": null,
      "metadata": {
        "id": "4Dv0CiwaLl3d",
        "outputId": "c3b35e67-93d0-43b3-f7a6-71bd4d2f548a",
        "colab": {
          "base_uri": "https://localhost:8080/",
          "height": 652
        }
      },
      "outputs": [
        {
          "output_type": "stream",
          "name": "stdout",
          "text": [
            "Beta: [ 2.61121011e+00  7.98911969e-03  1.92598930e+00 -5.58737518e-04]\n",
            "Beta Std Error: [1.31046455e+00 1.60913736e-02 3.30118970e-01 1.07204431e-03]\n",
            "Beta Covariance: [[ 3.94386694e-02 -4.66240518e-04  9.88510827e-03 -2.85877392e-05]\n",
            " [-4.66240518e-04  5.94645221e-06 -1.20130534e-04  3.85348504e-07]\n",
            " [ 9.88510827e-03 -1.20130534e-04  2.50272227e-03 -7.50924516e-06]\n",
            " [-2.85877392e-05  3.85348504e-07 -7.50924516e-06  2.63935112e-08]]\n",
            "Residual Variance: 43.54399815359614\n",
            "Inverse Condition #: 7.927793642005269e-05\n",
            "Reason(s) for Halting:\n",
            "  Sum of squares convergence\n",
            "\n",
            "Final Result: Y = (2.6112 +/- 1.3105)(X - (0.0080 +/- 0.0161))^(1.9260 +/- 0.3301) + (-0.0006 +/- 0.0011)\n"
          ]
        },
        {
          "output_type": "display_data",
          "data": {
            "image/png": "[encoded data removed]",
            "text/plain": [
              "<Figure size 640x480 with 1 Axes>"
            ]
          },
          "metadata": {
            "needs_background": "light"
          }
        }
      ],
      "source": [
        "xi = df2['x']\n",
        "yi = df2['y']\n",
        "sigmaxi = df2['dx']\n",
        "sigmayi = df2['dy']\n",
        "\n",
        "##############################\n",
        "\n",
        "from scipy.odr import *\n",
        "\n",
        "def fitfunction(B, x):\n",
        "    '''Non-Linear function y = a*(x-c)^b+d'''\n",
        "    # B is a vector of the parameters.\n",
        "    # x is an array of the current x values.\n",
        "    # x is in the same format as the x passed to Data or RealData.\n",
        "    #\n",
        "    # Return an array in the same format as y passed to Data or RealData\n",
        "    return B[0]*(x-B[1])**B[2] + B[3]\n",
        "\n",
        "linear = Model(fitfunction) # create a Model object based on the fitfuncion we have defined\n",
        "mydata = RealData(xi, yi, sx=sigmaxi, sy=sigmayi) # create a data object based on our data, include errors.\n",
        "myodr = ODR(mydata, linear, beta0=[1.92, 0.017, 1.72, -0.00006]) # create a fitting object, based on the data, fit Model, and an intial set of parameters.\n",
        "myoutput = myodr.run()  # run the fitting process to get optimized parameters!\n",
        "\n",
        "myoutput.pprint() # print out the result of the fit\n",
        "\n",
        "# Now assign the important fit results to some more convenient variables.\n",
        "\n",
        "popt = myoutput.beta # the vector of optimized parameters\n",
        "pcov = myoutput.cov_beta # the covariance matrix\n",
        "perr = myoutput.sd_beta # the vector of ERRORS in the optimized parameters\n",
        "\n",
        "# The following lines generate upper and lower 99% \"Confidence Bands\" on the fit, for visualization\n",
        "# purposes.\n",
        "\n",
        "ps = np.random.multivariate_normal(popt,pcov,10000)\n",
        "xl = np.linspace(xi[0],xi[len(xi)-1],100)\n",
        "ysample=np.asarray([fitfunction(pl,xl) for pl in ps])\n",
        "ysample = np.nan_to_num(ysample)\n",
        "\n",
        "lower = np.percentile(ysample,16.0,axis=0)\n",
        "upper = np.percentile(ysample,84.0,axis=0)\n",
        "middle = (lower+upper)/2.0\n",
        "\n",
        "yfit = fitfunction(popt,xl)\n",
        "\n",
        "print()\n",
        "print (\"Final Result: Y = (%0.4f +/- %0.4f)(X - (%0.4f +/- %0.4f))^(%0.4f +/- %0.4f) + (%0.4f +/- %0.4f)\" % (popt[0],perr[0],popt[1],perr[1],popt[2],perr[2],popt[3],perr[3]))\n",
        "\n",
        "plt.figure(figsize=(8, 6), dpi=80)\n",
        "plt.errorbar(xi, yi, xerr=sigmaxi, yerr=sigmayi, fmt='o', capsize=2, capthick=1)\n",
        "\n",
        "#plt.plot(xl,middle)\n",
        "#plt.plot(xl,lower)\n",
        "#plt.plot(xl,upper)\n",
        "plt.plot(xl,yfit)\n",
        "\n",
        "#########################\n",
        "\n",
        "plt.xlabel('Horizonatal Distance (meters)')\n",
        "plt.ylabel('Vertical Distance (meters)')\n",
        "plt.title('Determining the Electron Path (Accelerating Voltage = 3.5 kV)')\n",
        "plt.show()\n",
        "\n"
      ]
    },
    {
      "cell_type": "markdown",
      "source": [
        "## Analysis of Electron Path:   Accelerating Voltage = 3.5 kV\n",
        "\n",
        "From the theory, we expect:\n",
        "\n",
        "$y = C(x-x_i)^\\alpha + y_i$\n",
        "\n",
        "where:\n",
        "\n",
        "$C = \\frac{V_p}{4 d_{eff} V_a}$\n",
        "\n",
        "We see that the coefficient C is $(2.6112 \\pm 1.3105)$.\n",
        "\n",
        "Here, $\\alpha$, is $(1.93 \\pm 0.3301)$ which is close to the original assumption of $\\alpha$ being 2 and it also lies within the uncertainty of the value. "
      ],
      "metadata": {
        "id": "ZQNu01jV_C05"
      }
    },
    {
      "cell_type": "code",
      "execution_count": null,
      "metadata": {
        "id": "PtUn9_VxLl3e",
        "outputId": "3f3189c1-2f22-4050-a182-77c1e7e07735",
        "colab": {
          "base_uri": "https://localhost:8080/"
        }
      },
      "outputs": [
        {
          "output_type": "stream",
          "name": "stdout",
          "text": [
            "d$_{eff} = (0.100 +/- 0.051)\n",
            "xi = (0.00799 +/- 0.01609)\n",
            "yi = (-0.00056 +/- 0.00107)\n",
            "alpha = (1.92599 +/- 0.33012)\n"
          ]
        }
      ],
      "source": [
        "Va = 3.50\n",
        "dVa = 0.01\n",
        "Vp = 3.64\n",
        "dVp = 0.01\n",
        "C = popt[0]\n",
        "dC = perr[0]\n",
        "x_i2 = popt[1]\n",
        "dx_i2 = perr[1]\n",
        "alpha2 = popt[2]\n",
        "dalpha2 = perr[2]\n",
        "y_i2 = popt[3]\n",
        "dy_i2 = perr[3]\n",
        "\n",
        "deff2 = Vp/(4*C*Va)\n",
        "\n",
        "ddeff2 = deff2*(dVp/Vp+dVa/Va+dC/C)\n",
        "\n",
        "print('d$_{eff} = (%0.3f +/- %0.3f)' % (deff2,ddeff2))\n",
        "\n",
        "print('xi = (%0.5f +/- %0.5f)' % (x_i2,dx_i2))\n",
        "print('yi = (%0.5f +/- %0.5f)' % (y_i2,dy_i2))\n",
        "print('alpha = (%0.5f +/- %0.5f)' % (alpha2,dalpha2))\n",
        "\n"
      ]
    },
    {
      "cell_type": "code",
      "execution_count": null,
      "metadata": {
        "id": "_sCq3GKDLl3f",
        "outputId": "d8d25fac-3797-4a90-e643-995ba2adfacf",
        "colab": {
          "base_uri": "https://localhost:8080/",
          "height": 670
        }
      },
      "outputs": [
        {
          "output_type": "stream",
          "name": "stdout",
          "text": [
            "Beta: [3.47595991e+00 1.99999994e-02 1.79392673e+00 1.00856926e-03]\n",
            "Beta Std Error: [1.12891213e+00 4.20445607e-03 1.53101896e-01 3.13655502e-04]\n",
            "Beta Covariance: [[ 2.84427628e-02 -9.47745064e-05  3.83046949e-03 -3.80632754e-06]\n",
            " [-9.47745064e-05  3.94521918e-07 -1.34975426e-05  2.23327934e-08]\n",
            " [ 3.83046949e-03 -1.34975426e-05  5.23133627e-04 -5.91362110e-07]\n",
            " [-3.80632754e-06  2.23327934e-08 -5.91362110e-07  2.19562070e-09]]\n",
            "Residual Variance: 44.80727195740598\n",
            "Inverse Condition #: 0.0010496150506034742\n",
            "Reason(s) for Halting:\n",
            "  Sum of squares convergence\n"
          ]
        },
        {
          "output_type": "stream",
          "name": "stderr",
          "text": [
            "/usr/local/lib/python3.7/dist-packages/ipykernel_launcher.py:17: RuntimeWarning: invalid value encountered in power\n"
          ]
        },
        {
          "output_type": "stream",
          "name": "stdout",
          "text": [
            "\n",
            "Final Result: Y = (3.4760 +/- 1.1289)(X - (0.0200 +/- 0.0042))^(1.7939 +/- 0.1531) + (0.0010 +/- 0.0003)\n"
          ]
        },
        {
          "output_type": "display_data",
          "data": {
            "image/png": "[encoded data removed]",
            "text/plain": [
              "<Figure size 640x480 with 1 Axes>"
            ]
          },
          "metadata": {
            "needs_background": "light"
          }
        }
      ],
      "source": [
        "xi = df3['x']\n",
        "yi = df3['y']\n",
        "sigmaxi = df3['dx']\n",
        "sigmayi = df3['dy']\n",
        "\n",
        "##############################\n",
        "\n",
        "from scipy.odr import *\n",
        "\n",
        "def fitfunction(B, x):\n",
        "    '''Non-Linear function y = a*(x-c)^b+d'''\n",
        "    # B is a vector of the parameters.\n",
        "    # x is an array of the current x values.\n",
        "    # x is in the same format as the x passed to Data or RealData.\n",
        "    #\n",
        "    # Return an array in the same format as y passed to Data or RealData\n",
        "    return B[0]*(x-B[1])**B[2] + B[3]\n",
        "\n",
        "linear = Model(fitfunction) # create a Model object based on the fitfuncion we have defined\n",
        "mydata = RealData(xi, yi, sx=sigmaxi, sy=sigmayi) # create a data object based on our data, include errors.\n",
        "myodr = ODR(mydata, linear, beta0=[2.0, 0.008, 1.93, 0.0003]) # create a fitting object, based on the data, fit Model, and an intial set of parameters.\n",
        "myoutput = myodr.run()  # run the fitting process to get optimized parameters!\n",
        "\n",
        "myoutput.pprint() # print out the result of the fit\n",
        "\n",
        "# Now assign the important fit results to some more convenient variables.\n",
        "\n",
        "popt = myoutput.beta # the vector of optimized parameters\n",
        "pcov = myoutput.cov_beta # the covariance matrix\n",
        "perr = myoutput.sd_beta # the vector of ERRORS in the optimized parameters\n",
        "\n",
        "# The following lines generate upper and lower 99% \"Confidence Bands\" on the fit, for visualization\n",
        "# purposes.\n",
        "\n",
        "ps = np.random.multivariate_normal(popt,pcov,10000)\n",
        "xl = np.linspace(xi[0],xi[len(xi)-1],100)\n",
        "ysample=np.asarray([fitfunction(pl,xl) for pl in ps])\n",
        "ysample = np.nan_to_num(ysample)\n",
        "\n",
        "lower = np.percentile(ysample,16.0,axis=0)\n",
        "upper = np.percentile(ysample,84.0,axis=0)\n",
        "middle = (lower+upper)/2.0\n",
        "\n",
        "yfit = fitfunction(popt,xl)\n",
        "\n",
        "print()\n",
        "print (\"Final Result: Y = (%0.4f +/- %0.4f)(X - (%0.4f +/- %0.4f))^(%0.4f +/- %0.4f) + (%0.4f +/- %0.4f)\" % (popt[0],perr[0],popt[1],perr[1],popt[2],perr[2],popt[3],perr[3]))\n",
        "\n",
        "plt.figure(figsize=(8, 6), dpi=80)\n",
        "plt.errorbar(xi, yi, xerr=sigmaxi, yerr=sigmayi, fmt='o', capsize=2, capthick=1)\n",
        "\n",
        "#plt.plot(xl,middle)\n",
        "#plt.plot(xl,lower)\n",
        "#plt.plot(xl,upper)\n",
        "plt.plot(xl,yfit)\n",
        "\n",
        "#########################\n",
        "\n",
        "plt.xlabel('Horizonatal Distance (meters)')\n",
        "plt.ylabel('Vertical Distance (meters)')\n",
        "plt.title('Determining the Electron Path (Accelerating Voltage = 2.5 kV)')\n",
        "plt.show()\n"
      ]
    },
    {
      "cell_type": "markdown",
      "source": [
        "## Analysis of Electron Path:   Accelerating Voltage = 2.5 kV\n",
        "\n",
        "From the theory, we expect:\n",
        "\n",
        "$y = C(x-x_i)^\\alpha + y_i$\n",
        "\n",
        "where:\n",
        "\n",
        "$C = \\frac{V_p}{4 d_{eff} V_a}$\n",
        "\n",
        "We see that the coefficient C is $(3.4760 \\pm 1.1289)$.\n",
        "\n",
        "Finally, $\\alpha$ is $(1.794 \\pm 0.153)$ which, in the value of the uncertainty, is not close to the orinigal assumption of $\\alpha$ being 2. "
      ],
      "metadata": {
        "id": "MnvkDOdQ_Oao"
      }
    },
    {
      "cell_type": "code",
      "execution_count": null,
      "metadata": {
        "id": "LYHAXoJnLl3g",
        "outputId": "60972df4-6840-4a0d-ec69-c18354502480",
        "colab": {
          "base_uri": "https://localhost:8080/"
        }
      },
      "outputs": [
        {
          "output_type": "stream",
          "name": "stdout",
          "text": [
            "d$_{eff} = (0.105 +/- 0.035)\n",
            "xi = (0.02000 +/- 0.00420)\n",
            "yi = (0.00101 +/- 0.00031)\n",
            "alpha = (1.79393 +/- 0.15310)\n"
          ]
        }
      ],
      "source": [
        "Va = 2.50\n",
        "dVa = 0.01\n",
        "Vp = 3.64\n",
        "dVp = 0.01\n",
        "C = popt[0]\n",
        "dC = perr[0]\n",
        "x_i3 = popt[1]\n",
        "dx_i3 = perr[1]\n",
        "alpha3 = popt[2]\n",
        "dalpha3 = perr[2]\n",
        "y_i3 = popt[3]\n",
        "dy_i3 = perr[3]\n",
        "\n",
        "deff3 = Vp/(4*C*Va)\n",
        "\n",
        "ddeff3 = deff3*(dVp/Vp+dVa/Va+dC/C)\n",
        "\n",
        "print('d$_{eff} = (%0.3f +/- %0.3f)' % (deff3,ddeff3))\n",
        "\n",
        "print('xi = (%0.5f +/- %0.5f)' % (x_i3,dx_i3))\n",
        "print('yi = (%0.5f +/- %0.5f)' % (y_i3,dy_i3))\n",
        "print('alpha = (%0.5f +/- %0.5f)' % (alpha3,dalpha3))\n"
      ]
    },
    {
      "cell_type": "code",
      "execution_count": null,
      "metadata": {
        "id": "fn9LgmwALl3h",
        "outputId": "194c59ba-622c-4b76-bd26-deb7f0696a24",
        "colab": {
          "base_uri": "https://localhost:8080/"
        }
      },
      "outputs": [
        {
          "output_type": "stream",
          "name": "stdout",
          "text": [
            "Va = 4.50kV: d$_{eff} = (0.044 +/- 0.049)\n",
            "Va = 3.50kV: d$_{eff} = (0.100 +/- 0.051)\n",
            "Va = 2.50kV: d$_{eff} = (0.105 +/- 0.035)\n"
          ]
        }
      ],
      "source": [
        "# Summary of Part I\n",
        "\n",
        "print('Va = 4.50kV: d$_{eff} = (%0.3f +/- %0.3f)' % (deff1,ddeff1))\n",
        "print('Va = 3.50kV: d$_{eff} = (%0.3f +/- %0.3f)' % (deff2,ddeff2))\n",
        "print('Va = 2.50kV: d$_{eff} = (%0.3f +/- %0.3f)' % (deff3,ddeff3))"
      ]
    },
    {
      "cell_type": "markdown",
      "metadata": {
        "id": "UpS0CWP6Ll3i"
      },
      "source": [
        "# Determining the Effective Plate Separation"
      ]
    },
    {
      "cell_type": "code",
      "execution_count": null,
      "metadata": {
        "id": "ua5cj3zCLl3i",
        "outputId": "0d4aaecd-db34-44cc-ef42-db59b819016e",
        "colab": {
          "base_uri": "https://localhost:8080/"
        }
      },
      "outputs": [
        {
          "output_type": "stream",
          "name": "stdout",
          "text": [
            "Plate Separation Data:\n",
            "  Vp  dVp   Va  dVa\n",
            "2.00 0.01 2.60 0.01\n",
            "2.13 0.01 2.80 0.01\n",
            "2.27 0.01 3.00 0.01\n",
            "2.40 0.01 3.20 0.01\n",
            "2.55 0.01 3.40 0.01\n",
            "2.71 0.01 3.60 0.01\n",
            "2.82 0.01 3.80 0.01\n",
            "3.01 0.01 4.00 0.01\n",
            "3.20 0.01 4.20 0.01\n",
            "3.30 0.01 4.40 0.01\n",
            "3.44 0.01 4.60 0.01\n",
            "3.55 0.01 4.81 0.01\n",
            "3.69 0.01 5.00 0.01\n"
          ]
        }
      ],
      "source": [
        "# Create a Pandas DataFrame with data for part 2\n",
        "\n",
        "# The data elements are [Vp, dVp, Va, dVa]\n",
        "\n",
        "data4 = [[2.00,0.01,2.60,0.01], [2.13,0.01,2.80,0.01], [2.27,0.01,3.00,0.01],\n",
        "         [2.40,0.01,3.20,0.01], [2.55,0.01,3.40,0.01], [2.71,0.01,3.60,0.01],\n",
        "         [2.82,0.01,3.80,0.01], [3.01,0.01,4.00,0.01], [3.20,0.01,4.20,0.01],\n",
        "         [3.30,0.01,4.40,0.01], [3.44,0.01,4.60,0.01], [3.55,0.01,4.81,0.01],\n",
        "         [3.69,0.01,5.00,0.01]]\n",
        "# create dataframe\n",
        "df4 = pd.DataFrame(data4, columns = ['Vp', 'dVp','Va','dVa'])\n",
        "\n",
        "print('Plate Separation Data:')\n",
        "print(df4.to_string(index=False))"
      ]
    },
    {
      "cell_type": "code",
      "execution_count": null,
      "metadata": {
        "id": "jLBKr66mLl3j",
        "outputId": "7cc0f966-a039-472a-dca9-4cf4ee568fa0",
        "colab": {
          "base_uri": "https://localhost:8080/",
          "height": 618
        }
      },
      "outputs": [
        {
          "output_type": "stream",
          "name": "stdout",
          "text": [
            "Beta: [0.71979215 0.11577461]\n",
            "Beta Std Error: [0.00967667 0.03748654]\n",
            "Beta Covariance: [[ 2.08005503e-05 -7.90578931e-05]\n",
            " [-7.90578931e-05  3.12157691e-04]]\n",
            "Residual Variance: 4.5017013581755885\n",
            "Inverse Condition #: 0.04135954770307873\n",
            "Reason(s) for Halting:\n",
            "  Sum of squares convergence\n",
            "\n",
            "Final Result: Y = (0.719792148 +/- 0.009676666)X + (0.115774610 +/- 0.037486540)\n"
          ]
        },
        {
          "output_type": "display_data",
          "data": {
            "image/png": "[encoded data removed]",
            "text/plain": [
              "<Figure size 640x480 with 1 Axes>"
            ]
          },
          "metadata": {
            "needs_background": "light"
          }
        }
      ],
      "source": [
        "xi = df4['Va']\n",
        "yi = df4['Vp']\n",
        "sigmaxi = df4['dVa']\n",
        "sigmayi = df4['dVp']\n",
        "\n",
        "##############################\n",
        "\n",
        "from scipy.odr import *\n",
        "\n",
        "def fitfunction(B, x):\n",
        "    '''Linear function y = a*x+b'''\n",
        "    # B is a vector of the parameters.\n",
        "    # x is an array of the current x values.\n",
        "    # x is in the same format as the x passed to Data or RealData.\n",
        "    #\n",
        "    # Return an array in the same format as y passed to Data or RealData.\n",
        "    return B[0]*x+B[1]\n",
        "\n",
        "linear = Model(fitfunction) # create a Model object based on the fitfuncion we have defined\n",
        "mydata = RealData(xi, yi, sx=sigmaxi, sy=sigmayi) # create a data object based on our data, include errors.\n",
        "myodr = ODR(mydata, linear, beta0=[1., 2.]) # create a fitting object, based on the data, fit Model, and an intial set of parameters.\n",
        "myoutput = myodr.run()  # run the fitting process to get optimized parameters!\n",
        "\n",
        "myoutput.pprint() # print out the result of the fit\n",
        "\n",
        "# Now assign the important fit results to some more convenient variables.\n",
        "\n",
        "popt = myoutput.beta # the vector of optimized parameters\n",
        "pcov = myoutput.cov_beta # the covariance matrix\n",
        "perr = myoutput.sd_beta # the vector of ERRORS in the optimized parameters\n",
        "\n",
        "# The following lines generate upper and lower 99% \"Confidence Bands\" on the fit, for visualization\n",
        "# purposes.\n",
        "\n",
        "ps = np.random.multivariate_normal(popt,pcov,10000)\n",
        "xl = np.linspace(xi[0],xi[len(xi)-1],100)\n",
        "ysample=np.asarray([fitfunction(pl,xl) for pl in ps])\n",
        "\n",
        "lower = np.percentile(ysample,0.5,axis=0)\n",
        "upper = np.percentile(ysample,99.5,axis=0)\n",
        "middle = (lower+upper)/2.0\n",
        "\n",
        "print()\n",
        "print (\"Final Result: Y = (%0.9f +/- %0.9f)X + (%0.9f +/- %0.9f)\" % (popt[0],perr[0],popt[1],perr[1]))\n",
        "\n",
        "plt.figure(figsize=(8, 6), dpi=80)\n",
        "\n",
        "plt.errorbar(xi, yi, xerr=sigmaxi, yerr=sigmayi, fmt='o', capsize=2, capthick=1)\n",
        "\n",
        "plt.plot(xl,middle)\n",
        "plt.plot(xl,lower)\n",
        "plt.plot(xl,upper)\n",
        "\n",
        "#########################\n",
        "\n",
        "plt.xlabel('Accelerating Voltage (kV)')\n",
        "plt.ylabel('Plate Voltage (kV)')\n",
        "plt.title('Determining the Effective Plate Separation')\n",
        "plt.show()"
      ]
    },
    {
      "cell_type": "markdown",
      "metadata": {
        "id": "SP_GWf7BLl3j"
      },
      "source": [
        "## Analysis of Electron Path:   Accelerating Voltage = 4.5 kV\n",
        "\n",
        "First of all, we see that the fit is linear, as expected.\n",
        "\n",
        "Second, we see that the result for the slope is $(0.719 \\pm 0.009)$.  \n",
        "\n",
        "Third, we see that the y-intercept of the fit is $(0.116 \\pm 0.037)$.  This is not\n",
        "consistent with zero, as expected.\n",
        "\n",
        "The theory predicts that this slope should be equal to: $\\frac{4 \\Delta y d_{eff}}{(\\Delta x)^2}$.  Thus, we can calculate that:\n",
        "\n",
        "$d_{eff} = slope \\left( \\frac{(\\Delta x)^2}{4 \\Delta y} \\right)$\n",
        "\n",
        "and \n",
        "\n",
        "$ \\delta(d_{eff}) = d_{eff} \\left( 2 \\frac{\\delta(\\Delta x)}{\\Delta x} + \\frac{\\delta(\\Delta y)}{\\Delta y} + \\frac{\\delta(slope)}{slope} \\right) $"
      ]
    },
    {
      "cell_type": "code",
      "execution_count": null,
      "metadata": {
        "id": "8GfYNNX4Ll3k"
      },
      "outputs": [],
      "source": [
        "slope = popt[0]\n",
        "dslope = perr[0]\n",
        "\n",
        "deltax = 0.100\n",
        "ddeltax = 0.001\n",
        "deltay = 0.020\n",
        "ddeltay = 0.001\n",
        "\n",
        "deff4 = slope*(deltax**2)/(4.0*deltay)\n",
        "ddeff4 = deff4*(2*ddeltax/deltax + ddeltay/deltay + dslope/slope)\n",
        "\n"
      ]
    },
    {
      "cell_type": "code",
      "execution_count": null,
      "metadata": {
        "id": "NeksazvqLl3k",
        "outputId": "2f97c399-33d6-4370-da7d-fb5983315207",
        "colab": {
          "base_uri": "https://localhost:8080/"
        }
      },
      "outputs": [
        {
          "output_type": "stream",
          "name": "stdout",
          "text": [
            "Part II: Effective distance = (0.090 +/- 0.008) m\n",
            "\n",
            "Part I:\n",
            "Va = 4.50kV: d_eff = (0.044 +/- 0.049) m\n",
            "Va = 3.50kV: d_eff = (0.100 +/- 0.051) m\n",
            "Va = 2.50kV: d_eff = (0.105 +/- 0.035) m\n"
          ]
        }
      ],
      "source": [
        "# Final Summary\n",
        "print (\"Part II: Effective distance = (%0.3f +/- %0.3f) m\" % (deff4,ddeff4))\n",
        "\n",
        "print()\n",
        "print(\"Part I:\")\n",
        "print('Va = 4.50kV: d_eff = (%0.3f +/- %0.3f) m' % (deff1,ddeff1))\n",
        "print('Va = 3.50kV: d_eff = (%0.3f +/- %0.3f) m' % (deff2,ddeff2))\n",
        "print('Va = 2.50kV: d_eff = (%0.3f +/- %0.3f) m' % (deff3,ddeff3))"
      ]
    },
    {
      "cell_type": "code",
      "execution_count": null,
      "metadata": {
        "id": "PN1k8nx4Ll3l",
        "outputId": "2092f36b-f5d5-4c07-b450-7a28e9367e58",
        "colab": {
          "base_uri": "https://localhost:8080/",
          "height": 461
        }
      },
      "outputs": [
        {
          "output_type": "stream",
          "name": "stdout",
          "text": [
            "Weighted Average = 0.0898 +/- 0.0072 m\n"
          ]
        },
        {
          "output_type": "display_data",
          "data": {
            "image/png": "[encoded data removed]",
            "text/plain": [
              "<Figure size 640x480 with 1 Axes>"
            ]
          },
          "metadata": {
            "needs_background": "light"
          }
        }
      ],
      "source": [
        "x1 = ['IA','IB','IC','II']\n",
        "y1 = np.array([deff1,deff2,deff3,deff4])\n",
        "dy1 = np.array([ddeff1,ddeff2,ddeff3,ddeff4])\n",
        "\n",
        "# Calculate the weighted average of the effective distance values.\n",
        "def w_avg(x, dx):\n",
        "    d = x\n",
        "    w = 1.0/dx**2\n",
        "    return (d * w).sum()/w.sum(), np.sqrt(1/w.sum())\n",
        "\n",
        "average, daverage = w_avg(y1,dy1)\n",
        "print ('Weighted Average = %0.4f +/- %0.4f m' % (average,daverage))\n",
        "ylow = average-daverage\n",
        "yhigh = average+daverage\n",
        "y2 = [ylow,ylow,ylow,ylow]\n",
        "y3 = [yhigh,yhigh,yhigh,yhigh]\n",
        "\n",
        "\n",
        "plt.figure(figsize=(8, 6), dpi=80)\n",
        "\n",
        "plt.errorbar(x1, y1, yerr=dy1, fmt='o', capsize=2, capthick=1)\n",
        "plt.plot(x1,y2)\n",
        "plt.plot(x1,y3)\n",
        "\n",
        "#########################\n",
        "\n",
        "plt.xlabel('Experiment Part')\n",
        "plt.ylabel('Effective Plate Separation (m)')\n",
        "plt.title('Comparison of Parts I and II')\n",
        "plt.ylim(0,0.22)\n",
        "plt.show()"
      ]
    },
    {
      "cell_type": "code",
      "execution_count": null,
      "metadata": {
        "id": "qu0n0ROfLl3l",
        "outputId": "a99af114-a03c-4361-faf1-dcef95ccb4b0",
        "colab": {
          "base_uri": "https://localhost:8080/",
          "height": 444
        }
      },
      "outputs": [
        {
          "output_type": "display_data",
          "data": {
            "image/png": "[encoded data removed]",
            "text/plain": [
              "<Figure size 640x480 with 1 Axes>"
            ]
          },
          "metadata": {
            "needs_background": "light"
          }
        }
      ],
      "source": [
        "x1 = ['IA','IB','IC']\n",
        "y1 = [x_i1,x_i2,x_i3]\n",
        "dy1 = [dx_i1,dx_i2,dx_i3]\n",
        "y2 = [y_i1,y_i2,y_i3]\n",
        "dy2 = [dy_i1,dy_i2,dy_i3]\n",
        "\n",
        "plt.figure(figsize=(8, 6), dpi=80)\n",
        "\n",
        "plt.errorbar(x1, y1, yerr=dy1, fmt='o', capsize=2, capthick=1)\n",
        "plt.errorbar(x1, y2, yerr=dy2, fmt='o', capsize=2, capthick=1)\n",
        "#########################\n",
        "\n",
        "plt.xlabel('Experiment Part')\n",
        "plt.ylabel('Initial X/Y Position (m)')\n",
        "plt.title('Comparison of Part I Extractions')\n",
        "plt.ylim(-0.01,0.03)\n",
        "plt.show()"
      ]
    },
    {
      "cell_type": "code",
      "execution_count": null,
      "metadata": {
        "id": "uFlL70i3Ll3m",
        "outputId": "fc3b1eab-8c2d-4886-e829-9be8bada7eeb",
        "colab": {
          "base_uri": "https://localhost:8080/",
          "height": 461
        }
      },
      "outputs": [
        {
          "output_type": "stream",
          "name": "stdout",
          "text": [
            "Weighted Average = 1.8328 +/- 0.1372 m\n"
          ]
        },
        {
          "output_type": "display_data",
          "data": {
            "image/png": "[encoded data removed]",
            "text/plain": [
              "<Figure size 640x480 with 1 Axes>"
            ]
          },
          "metadata": {
            "needs_background": "light"
          }
        }
      ],
      "source": [
        "x1 = ['IA','IB','IC']\n",
        "y1 = np.array([alpha1,alpha2,alpha3])\n",
        "dy1 = np.array([dalpha1,dalpha2,dalpha3])\n",
        "\n",
        "average, daverage = w_avg(y1,dy1)\n",
        "print ('Weighted Average = %0.4f +/- %0.4f m' % (average,daverage))\n",
        "ylow = average-daverage\n",
        "yhigh = average+daverage\n",
        "y2 = [ylow,ylow,ylow]\n",
        "y3 = [yhigh,yhigh,yhigh]\n",
        "\n",
        "plt.figure(figsize=(8, 6), dpi=80)\n",
        "\n",
        "plt.errorbar(x1, y1, yerr=dy1, fmt='o', capsize=2, capthick=1)\n",
        "plt.plot(x1,y2)\n",
        "plt.plot(x1,y3)\n",
        "#########################\n",
        "\n",
        "plt.xlabel('Experiment Part')\n",
        "plt.ylabel('Exponent')\n",
        "plt.title('Comparison of Part I Extractions')\n",
        "plt.ylim(0.0,3.0)\n",
        "plt.show()"
      ]
    },
    {
      "cell_type": "markdown",
      "source": [
        "In conclusion, we found that our exponent, $\\alpha$, of the power law equation was $(1.8328 \\pm 0.1372)$. This loosely agrees with our quadration fit where we assumed that exponent $\\alpha$ of the change in X was 2 in the following equation: \n",
        "\n",
        "$y = C(x-x_i)^\\alpha + y_i$\n",
        "\n",
        "The determination of the distance between plates was done through a linear fit and the slope, which would equal the distance the plates were separated, came out to be $(0.090 \\pm 0.008)m$. However, the plates were only separated by 6 cm, where as the calculated slope was came out to be 9 cm with an uncertainty of 0.8 cm. Therefore this derived value of the plate distnace is not valid as it lies far outside the uncertainty range. This is likely due to the fringing effects on the edges of the plates that cause the electrons to experience forces outside of what we assume to be 0 in both the x and y directions. \n"
      ],
      "metadata": {
        "id": "i4xV71kUWhpo"
      }
    }
  ],
  "metadata": {
    "kernelspec": {
      "display_name": "Python 3",
      "language": "python",
      "name": "python3"
    },
    "language_info": {
      "codemirror_mode": {
        "name": "ipython",
        "version": 3
      },
      "file_extension": ".py",
      "mimetype": "text/x-python",
      "name": "python",
      "nbconvert_exporter": "python",
      "pygments_lexer": "ipython3",
      "version": "3.6.8"
    },
    "latex_envs": {
      "LaTeX_envs_menu_present": true,
      "autoclose": false,
      "autocomplete": true,
      "bibliofile": "biblio.bib",
      "cite_by": "apalike",
      "current_citInitial": 1,
      "eqLabelWithNumbers": true,
      "eqNumInitial": 1,
      "hotkeys": {
        "equation": "Ctrl-E",
        "itemize": "Ctrl-I"
      },
      "labels_anchors": false,
      "latex_user_defs": false,
      "report_style_numbering": false,
      "user_envs_cfg": false
    },
    "colab": {
      "name": "M.B.P: Electric_Force_Analysis_PowerLaw.ipynb",
      "provenance": [],
      "collapsed_sections": [],
      "include_colab_link": true
    }
  },
  "nbformat": 4,
  "nbformat_minor": 0
}