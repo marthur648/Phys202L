{
  "cells": [
    {
      "cell_type": "markdown",
      "metadata": {
        "id": "sS92DK-CUyS2"
      },
      "source": [
        "# Lab 3:  Electric Force"
      ]
    },
    {
      "cell_type": "code",
      "execution_count": 3,
      "metadata": {
        "id": "fMgN6c_8UyS5"
      },
      "outputs": [],
      "source": [
        "import numpy as np\n",
        "import pandas as pd\n",
        "import matplotlib.pyplot as plt\n",
        "import scipy.stats as stats\n",
        "\n",
        "# The following lines make plots in dark mode look reasonable.  If you are not using dark\n",
        "# mode you don't need them, but you can also just leave them here and it should work fine.\n",
        "\n",
        "dark_mode = False\n",
        "# plotting choices for dark-mode\n",
        "if (dark_mode):\n",
        "    from jupyterthemes import jtplot\n",
        "    jtplot.style(theme='monokai', context='notebook', ticks=True, grid=False)\n",
        "    linecolor = 'w'\n",
        "else:\n",
        "    linecolor = 'k'"
      ]
    },
    {
      "cell_type": "markdown",
      "metadata": {
        "id": "8ZgWdh75UyS8"
      },
      "source": [
        "# Determining the Path of Electrons"
      ]
    },
    {
      "cell_type": "code",
      "execution_count": 10,
      "metadata": {
        "id": "HRJy2erRUyS9",
        "outputId": "cf33df65-75b4-43e2-ecdb-3b6f09f04813",
        "colab": {
          "base_uri": "https://localhost:8080/"
        }
      },
      "outputs": [
        {
          "output_type": "stream",
          "name": "stdout",
          "text": [
            "Accelerating voltage = 4.5 kV:\n",
            " x_cm  dx_cm  y_cm  dy_cm\n",
            "  2.0  0.005  0.00  0.005\n",
            "  3.0  0.005  0.15  0.005\n",
            "  4.0  0.005  0.23  0.005\n",
            "  5.0  0.005  0.40  0.005\n",
            "  6.0  0.005  0.60  0.005\n",
            "  7.0  0.005  0.90  0.005\n",
            "  8.0  0.005  1.21  0.005\n",
            "  9.0  0.005  1.60  0.005\n",
            " 10.0  0.005  2.00  0.005\n",
            "\n",
            "Accelerating voltage = 3.5 kV:\n",
            " x_cm  dx_cm  y_cm  dy_cm\n",
            "  2.0  0.005  0.00  0.005\n",
            "  2.5  0.005  0.01  0.005\n",
            "  3.0  0.005  0.15  0.005\n",
            "  3.5  0.005  0.20  0.005\n",
            "  4.0  0.005  0.30  0.005\n",
            "  4.5  0.005  0.40  0.005\n",
            "  5.0  0.005  0.55  0.005\n",
            "  5.5  0.005  0.60  0.005\n",
            "  6.0  0.005  0.80  0.005\n",
            "  6.5  0.005  1.00  0.005\n",
            "  7.0  0.005  1.20  0.005\n",
            "  7.5  0.005  1.40  0.005\n",
            "  8.0  0.005  1.60  0.005\n",
            "  8.5  0.005  1.80  0.005\n",
            "  9.0  0.005  2.10  0.005\n",
            "  9.5  0.005  2.25  0.005\n",
            " 10.0  0.005  2.60  0.005\n",
            "\n",
            "Accelerating voltage = 2.5 kV:\n",
            " x_cm  dx_cm  y_cm  dy_cm\n",
            "  2.0  0.005  0.10  0.005\n",
            "  2.5  0.005  0.15  0.005\n",
            "  3.0  0.005  0.20  0.005\n",
            "  3.5  0.005  0.25  0.005\n",
            "  4.0  0.005  0.40  0.005\n",
            "  4.5  0.005  0.60  0.005\n",
            "  5.0  0.005  0.75  0.005\n",
            "  5.5  0.005  0.89  0.005\n",
            "  6.0  0.005  1.20  0.005\n",
            "  6.5  0.005  1.50  0.005\n",
            "  7.0  0.005  1.70  0.005\n",
            "  7.5  0.005  2.00  0.005\n",
            "  8.0  0.005  2.30  0.005\n",
            "  8.5  0.005  2.70  0.005\n"
          ]
        }
      ],
      "source": [
        "# Create a Pandas DataFrame with data for part 1\n",
        "\n",
        "# The data elements are [x_cm, dx_cm, y_cm, dy_cm]\n",
        "\n",
        "data1 = [[2.00,0.005,0.00,0.005], [3.00,0.005,0.15,0.005], [4.00,0.005,0.23,0.005], [5.00,0.005,0.4,0.005], [6.00,0.005,0.6,0.005], [7.00,0.005,0.9,0.005],\n",
        "         [8.00,0.005,1.21,0.005],  [9.00,0.005,1.6,0.005], [10.00,0.005,2.0,0.005]]\n",
        "# create dataframe\n",
        "df1 = pd.DataFrame(data1, columns = ['x_cm', 'dx_cm','y_cm','dy_cm'])\n",
        "\n",
        "print('Accelerating voltage = 4.5 kV:')\n",
        "print(df1.to_string(index=False))\n",
        "\n",
        "data2 = [[2.00,0.005,0.00,0.005], [2.50,0.005,0.01,0.005], [3.00,0.005,0.15,0.005], [3.5,0.005,0.2,0.005], [4.0,0.005,0.3,0.005], [4.50,0.005,0.4,0.005],  [5.00,0.005,0.55,0.005],\n",
        "         [5.50,0.005,0.60,0.005],  [6.0,0.005,0.80,0.005], [6.5,0.005,1.0,0.005], [7.0,0.005,1.2,0.005], [7.50,0.005,1.4,0.005], [8.00,0.005,1.60,0.005], \n",
        "         [8.50,0.005,1.80,0.005], [9.00,0.005,2.10,0.005], [9.50, 0.005, 2.25, 0.005], [10.00, 0.005, 2.6, 0.005]]\n",
        "# create dataframe\n",
        "df2 = pd.DataFrame(data2, columns = ['x_cm', 'dx_cm','y_cm','dy_cm'])\n",
        "\n",
        "print()\n",
        "print('Accelerating voltage = 3.5 kV:')\n",
        "print(df2.to_string(index=False))\n",
        "\n",
        "data3 = [[2.00,0.005,0.10,0.005], [2.50,0.005,0.15,0.005], [3.00,0.005,0.20,0.005], [3.5,0.005,0.25,0.005], [4.0,0.005,0.40,0.005], [4.50,0.005,0.60,0.005],  [5.00,0.005,0.75,0.005],\n",
        "         [5.50,0.005,0.89,0.005],  [6.0,0.005,1.20,0.005], [6.5,0.005,1.50,0.005], [7.0,0.005,1.70,0.005], [7.50,0.005,2.0,0.005], [8.00,0.005,2.30,0.005], \n",
        "         [8.50,0.005,2.70,0.005]]\n",
        "# create dataframe\n",
        "df3 = pd.DataFrame(data3, columns = ['x_cm', 'dx_cm','y_cm','dy_cm'])\n",
        "\n",
        "print()\n",
        "print('Accelerating voltage = 2.5 kV:')\n",
        "print(df3.to_string(index=False))"
      ]
    },
    {
      "cell_type": "code",
      "execution_count": 11,
      "metadata": {
        "id": "pEQrYi_jUyS-",
        "outputId": "b555d904-1642-463f-d176-de50699757e4",
        "colab": {
          "base_uri": "https://localhost:8080/"
        }
      },
      "outputs": [
        {
          "output_type": "stream",
          "name": "stdout",
          "text": [
            "Accelerating voltage = 4.5 kV:\n",
            " x_cm  dx_cm  y_cm  dy_cm    x      dx      y      dy\n",
            "  2.0  0.005  0.00  0.005 0.02 0.00005 0.0000 0.00005\n",
            "  3.0  0.005  0.15  0.005 0.03 0.00005 0.0015 0.00005\n",
            "  4.0  0.005  0.23  0.005 0.04 0.00005 0.0023 0.00005\n",
            "  5.0  0.005  0.40  0.005 0.05 0.00005 0.0040 0.00005\n",
            "  6.0  0.005  0.60  0.005 0.06 0.00005 0.0060 0.00005\n",
            "  7.0  0.005  0.90  0.005 0.07 0.00005 0.0090 0.00005\n",
            "  8.0  0.005  1.21  0.005 0.08 0.00005 0.0121 0.00005\n",
            "  9.0  0.005  1.60  0.005 0.09 0.00005 0.0160 0.00005\n",
            " 10.0  0.005  2.00  0.005 0.10 0.00005 0.0200 0.00005\n",
            "\n",
            "Accelerating voltage = 3.5 kV:\n",
            " x_cm  dx_cm  y_cm  dy_cm     x      dx      y      dy\n",
            "  2.0  0.005  0.00  0.005 0.020 0.00005 0.0000 0.00005\n",
            "  2.5  0.005  0.01  0.005 0.025 0.00005 0.0001 0.00005\n",
            "  3.0  0.005  0.15  0.005 0.030 0.00005 0.0015 0.00005\n",
            "  3.5  0.005  0.20  0.005 0.035 0.00005 0.0020 0.00005\n",
            "  4.0  0.005  0.30  0.005 0.040 0.00005 0.0030 0.00005\n",
            "  4.5  0.005  0.40  0.005 0.045 0.00005 0.0040 0.00005\n",
            "  5.0  0.005  0.55  0.005 0.050 0.00005 0.0055 0.00005\n",
            "  5.5  0.005  0.60  0.005 0.055 0.00005 0.0060 0.00005\n",
            "  6.0  0.005  0.80  0.005 0.060 0.00005 0.0080 0.00005\n",
            "  6.5  0.005  1.00  0.005 0.065 0.00005 0.0100 0.00005\n",
            "  7.0  0.005  1.20  0.005 0.070 0.00005 0.0120 0.00005\n",
            "  7.5  0.005  1.40  0.005 0.075 0.00005 0.0140 0.00005\n",
            "  8.0  0.005  1.60  0.005 0.080 0.00005 0.0160 0.00005\n",
            "  8.5  0.005  1.80  0.005 0.085 0.00005 0.0180 0.00005\n",
            "  9.0  0.005  2.10  0.005 0.090 0.00005 0.0210 0.00005\n",
            "  9.5  0.005  2.25  0.005 0.095 0.00005 0.0225 0.00005\n",
            " 10.0  0.005  2.60  0.005 0.100 0.00005 0.0260 0.00005\n",
            "\n",
            "Accelerating voltage = 2.5 kV:\n",
            " x_cm  dx_cm  y_cm  dy_cm     x      dx      y      dy\n",
            "  2.0  0.005  0.10  0.005 0.020 0.00005 0.0010 0.00005\n",
            "  2.5  0.005  0.15  0.005 0.025 0.00005 0.0015 0.00005\n",
            "  3.0  0.005  0.20  0.005 0.030 0.00005 0.0020 0.00005\n",
            "  3.5  0.005  0.25  0.005 0.035 0.00005 0.0025 0.00005\n",
            "  4.0  0.005  0.40  0.005 0.040 0.00005 0.0040 0.00005\n",
            "  4.5  0.005  0.60  0.005 0.045 0.00005 0.0060 0.00005\n",
            "  5.0  0.005  0.75  0.005 0.050 0.00005 0.0075 0.00005\n",
            "  5.5  0.005  0.89  0.005 0.055 0.00005 0.0089 0.00005\n",
            "  6.0  0.005  1.20  0.005 0.060 0.00005 0.0120 0.00005\n",
            "  6.5  0.005  1.50  0.005 0.065 0.00005 0.0150 0.00005\n",
            "  7.0  0.005  1.70  0.005 0.070 0.00005 0.0170 0.00005\n",
            "  7.5  0.005  2.00  0.005 0.075 0.00005 0.0200 0.00005\n",
            "  8.0  0.005  2.30  0.005 0.080 0.00005 0.0230 0.00005\n",
            "  8.5  0.005  2.70  0.005 0.085 0.00005 0.0270 0.00005\n"
          ]
        }
      ],
      "source": [
        "df1['x'] = 0.01*(df1['x_cm'])\n",
        "df1['dx'] = 0.01*df1['dx_cm']\n",
        "df1['y'] = 0.01*df1['y_cm']\n",
        "df1['dy'] = 0.01*df1['dy_cm']\n",
        "\n",
        "print('Accelerating voltage = 4.5 kV:')\n",
        "print(df1.to_string(index=False))\n",
        "\n",
        "df2['x'] = 0.01*(df2['x_cm'])\n",
        "df2['dx'] = 0.01*df2['dx_cm']\n",
        "df2['y'] = 0.01*df2['y_cm']\n",
        "df2['dy'] = 0.01*df2['dy_cm']\n",
        "\n",
        "print()\n",
        "print('Accelerating voltage = 3.5 kV:')\n",
        "print(df2.to_string(index=False))\n",
        "\n",
        "df3['x'] = 0.01*(df3['x_cm'])\n",
        "df3['dx'] = 0.01*df3['dx_cm']\n",
        "df3['y'] = 0.01*df3['y_cm']\n",
        "df3['dy'] = 0.01*df3['dy_cm']\n",
        "\n",
        "print()\n",
        "print('Accelerating voltage = 2.5 kV:')\n",
        "print(df3.to_string(index=False))"
      ]
    },
    {
      "cell_type": "code",
      "execution_count": 12,
      "metadata": {
        "id": "KWEBAUMhUyTA",
        "outputId": "d45bb9c6-a6c6-4ba4-8422-5e413fd13b44",
        "colab": {
          "base_uri": "https://localhost:8080/",
          "height": 635
        }
      },
      "outputs": [
        {
          "output_type": "stream",
          "name": "stdout",
          "text": [
            "Beta: [ 2.44559673e+00 -4.66600862e-02  2.42839328e-04]\n",
            "Beta Std Error: [0.14740891 0.01784153 0.00047461]\n",
            "Beta Covariance: [[ 8.77695757e-04 -1.04344555e-04  2.52247831e-06]\n",
            " [-1.04344555e-04  1.28576202e-05 -3.26379903e-07]\n",
            " [ 2.52247831e-06 -3.26379903e-07  9.09858419e-09]]\n",
            "Residual Variance: 24.757310484038072\n",
            "Inverse Condition #: 0.0074914353598576405\n",
            "Reason(s) for Halting:\n",
            "  Sum of squares convergence\n",
            "\n",
            "Final Result: Y = (2.4456 +/- 0.1474)X^2 + (-0.0467 +/- 0.0178)X + (0.000243 +/- 0.000475)\n"
          ]
        },
        {
          "output_type": "display_data",
          "data": {
            "image/png": "[encoded data removed]",
            "text/plain": [
              "<Figure size 640x480 with 1 Axes>"
            ]
          },
          "metadata": {
            "needs_background": "light"
          }
        }
      ],
      "source": [
        "xi = df1['x']\n",
        "yi = df1['y']\n",
        "sigmaxi = df1['dx']\n",
        "sigmayi = df1['dy']\n",
        "\n",
        "##############################\n",
        "\n",
        "from scipy.odr import *\n",
        "\n",
        "def fitfunction(B, x):\n",
        "    '''Non-Linear function y = a*(x-c)^b'''\n",
        "    # B is a vector of the parameters.\n",
        "    # x is an array of the current x values.\n",
        "    # x is in the same format as the x passed to Data or RealData.\n",
        "    #\n",
        "    # Return an array in the same format as y passed to Data or RealData\n",
        "    return B[0]*x**2 + B[1]*x + B[2]\n",
        "\n",
        "linear = Model(fitfunction) # create a Model object based on the fitfuncion we have defined\n",
        "mydata = RealData(xi, yi, sx=sigmaxi, sy=sigmayi) # create a data object based on our data, include errors.\n",
        "myodr = ODR(mydata, linear, beta0=[2.11, 2.0,0.02]) # create a fitting object, based on the data, fit Model, and an intial set of parameters.\n",
        "myoutput = myodr.run()  # run the fitting process to get optimized parameters!\n",
        "\n",
        "myoutput.pprint() # print out the result of the fit\n",
        "\n",
        "# Now assign the important fit results to some more convenient variables.\n",
        "\n",
        "popt = myoutput.beta # the vector of optimized parameters\n",
        "pcov = myoutput.cov_beta # the covariance matrix\n",
        "perr = myoutput.sd_beta # the vector of ERRORS in the optimized parameters\n",
        "\n",
        "# The following lines generate upper and lower 99% \"Confidence Bands\" on the fit, for visualization\n",
        "# purposes.\n",
        "\n",
        "ps = np.random.multivariate_normal(popt,pcov,10000)\n",
        "xl = np.linspace(xi[0],xi[len(xi)-1],100)\n",
        "ysample=np.asarray([fitfunction(pl,xl) for pl in ps])\n",
        "ysample = np.nan_to_num(ysample)\n",
        "\n",
        "lower = np.percentile(ysample,16.0,axis=0)\n",
        "upper = np.percentile(ysample,84.0,axis=0)\n",
        "middle = (lower+upper)/2.0\n",
        "\n",
        "print()\n",
        "print (\"Final Result: Y = (%0.4f +/- %0.4f)X^2 + (%0.4f +/- %0.4f)X + (%0.6f +/- %0.6f)\" % (popt[0],perr[0],popt[1],perr[1],popt[2],perr[2]))\n",
        "\n",
        "plt.figure(figsize=(8, 6), dpi=80)\n",
        "plt.errorbar(xi, yi, xerr=sigmaxi, yerr=sigmayi, fmt='o', capsize=2, capthick=1)\n",
        "\n",
        "plt.plot(xl,middle)\n",
        "plt.plot(xl,lower)\n",
        "plt.plot(xl,upper)\n",
        "\n",
        "#########################\n",
        "\n",
        "plt.xlabel('Horizonatal Distance (meters)')\n",
        "plt.ylabel('Vertical Distance (meters)')\n",
        "plt.title('Determining the Electron Path (Accelerating Voltage = 4.5 kV)')\n",
        "plt.show()"
      ]
    },
    {
      "cell_type": "markdown",
      "metadata": {
        "id": "XbK-J6rWUyTC"
      },
      "source": [
        "## Analysis of Electron Path:   Accelerating Voltage = 4.5 kV\n",
        "\n",
        "First of all, we see that the fit is non-linear, as expected.\n",
        "\n",
        "Second, we see that the result for the exponent is $(1.88 \\pm 0.06)$.  This is not consistent with the expected value (2).\n",
        "\n",
        "Third, we see that the coefficient (C) of the expression is $(2.11 \\pm 0.23)$.\n",
        "\n",
        "The theory predicts that this coefficient should be equal to: $\\frac{V_p}{4 d_{eff} V_a}$.  Thus, we can calculate that:\n",
        "\n",
        "$d_{eff} = \\frac{V_p}{4 C V_a}$\n",
        "\n",
        "and \n",
        "\n",
        "$ \\delta(d_{eff}) = d_{eff} \\left( \\frac{\\delta(V_p)}{V_p} + \\frac{\\delta(V_a)}{V_a} + \\frac{\\delta(C)}{C} \\right) $"
      ]
    },
    {
      "cell_type": "code",
      "execution_count": 13,
      "metadata": {
        "id": "0H9RY10TUyTE",
        "outputId": "f7527b50-97f8-4009-d7af-4cb095569ec1",
        "colab": {
          "base_uri": "https://localhost:8080/"
        }
      },
      "outputs": [
        {
          "output_type": "stream",
          "name": "stdout",
          "text": [
            "d$_{eff} = (0.083 +/- 0.005)\n"
          ]
        }
      ],
      "source": [
        "Va = 4.50\n",
        "dVa = 0.01\n",
        "Vp = 3.64\n",
        "dVp = 0.01\n",
        "C = popt[0]\n",
        "dC = perr[0]\n",
        "\n",
        "deff1 = Vp/(4*C*Va)\n",
        "\n",
        "ddeff1 = deff1*(dVp/Vp+dVa/Va+dC/C)\n",
        "\n",
        "print('d$_{eff} = (%0.3f +/- %0.3f)' % (deff1,ddeff1))"
      ]
    },
    {
      "cell_type": "code",
      "execution_count": 14,
      "metadata": {
        "id": "_GkMQPX3UyTE",
        "outputId": "ec1b586d-b6b2-4823-9882-a32fe6d893be",
        "colab": {
          "base_uri": "https://localhost:8080/",
          "height": 635
        }
      },
      "outputs": [
        {
          "output_type": "stream",
          "name": "stdout",
          "text": [
            "Beta: [ 2.91297342e+00 -2.55702390e-02 -7.23774343e-04]\n",
            "Beta Std Error: [0.15402913 0.01854873 0.0004962 ]\n",
            "Beta Covariance: [[ 5.84613140e-04 -6.92360962e-05  1.70378834e-06]\n",
            " [-6.92360962e-05  8.47795243e-06 -2.17930112e-07]\n",
            " [ 1.70378834e-06 -2.17930112e-07  6.06706932e-09]]\n",
            "Residual Variance: 40.58234756695503\n",
            "Inverse Condition #: 0.006872672046200559\n",
            "Reason(s) for Halting:\n",
            "  Sum of squares convergence\n",
            "\n",
            "Final Result: Y = (2.9130 +/- 0.1540)X^2 + (-0.0256 +/- 0.0185)X + (-0.000724 +/- 0.000496)\n"
          ]
        },
        {
          "output_type": "display_data",
          "data": {
            "image/png": "[encoded data removed]",
            "text/plain": [
              "<Figure size 640x480 with 1 Axes>"
            ]
          },
          "metadata": {
            "needs_background": "light"
          }
        }
      ],
      "source": [
        "xi = df2['x']\n",
        "yi = df2['y']\n",
        "sigmaxi = df2['dx']\n",
        "sigmayi = df2['dy']\n",
        "\n",
        "##############################\n",
        "\n",
        "##############################\n",
        "\n",
        "from scipy.odr import *\n",
        "\n",
        "def fitfunction(B, x):\n",
        "    '''Non-Linear function y = a*(x-c)^b'''\n",
        "    # B is a vector of the parameters.\n",
        "    # x is an array of the current x values.\n",
        "    # x is in the same format as the x passed to Data or RealData.\n",
        "    #\n",
        "    # Return an array in the same format as y passed to Data or RealData\n",
        "    return B[0]*x**2 + B[1]*x + B[2]\n",
        "\n",
        "linear = Model(fitfunction) # create a Model object based on the fitfuncion we have defined\n",
        "mydata = RealData(xi, yi, sx=sigmaxi, sy=sigmayi) # create a data object based on our data, include errors.\n",
        "myodr = ODR(mydata, linear, beta0=[2.11, 2.0,0.02]) # create a fitting object, based on the data, fit Model, and an intial set of parameters.\n",
        "myoutput = myodr.run()  # run the fitting process to get optimized parameters!\n",
        "\n",
        "myoutput.pprint() # print out the result of the fit\n",
        "\n",
        "# Now assign the important fit results to some more convenient variables.\n",
        "\n",
        "popt = myoutput.beta # the vector of optimized parameters\n",
        "pcov = myoutput.cov_beta # the covariance matrix\n",
        "perr = myoutput.sd_beta # the vector of ERRORS in the optimized parameters\n",
        "\n",
        "# The following lines generate upper and lower 99% \"Confidence Bands\" on the fit, for visualization\n",
        "# purposes.\n",
        "\n",
        "ps = np.random.multivariate_normal(popt,pcov,10000)\n",
        "xl = np.linspace(xi[0],xi[len(xi)-1],100)\n",
        "ysample=np.asarray([fitfunction(pl,xl) for pl in ps])\n",
        "ysample = np.nan_to_num(ysample)\n",
        "\n",
        "lower = np.percentile(ysample,16.0,axis=0)\n",
        "upper = np.percentile(ysample,84.0,axis=0)\n",
        "middle = (lower+upper)/2.0\n",
        "\n",
        "print()\n",
        "print (\"Final Result: Y = (%0.4f +/- %0.4f)X^2 + (%0.4f +/- %0.4f)X + (%0.6f +/- %0.6f)\" % (popt[0],perr[0],popt[1],perr[1],popt[2],perr[2]))\n",
        "\n",
        "plt.figure(figsize=(8, 6), dpi=80)\n",
        "plt.errorbar(xi, yi, xerr=sigmaxi, yerr=sigmayi, fmt='o', capsize=2, capthick=1)\n",
        "\n",
        "plt.plot(xl,middle)\n",
        "plt.plot(xl,lower)\n",
        "plt.plot(xl,upper)\n",
        "\n",
        "#########################\n",
        "\n",
        "plt.xlabel('Horizonatal Distance (meters)')\n",
        "plt.ylabel('Vertical Distance (meters)')\n",
        "plt.title('Determining the Electron Path (Accelerating Voltage = 3.5 kV)')\n",
        "plt.show()"
      ]
    },
    {
      "cell_type": "code",
      "execution_count": 15,
      "metadata": {
        "id": "k8xBlwlvUyTG",
        "outputId": "685cba37-f886-43fe-c65c-98888f1dd97f",
        "colab": {
          "base_uri": "https://localhost:8080/"
        }
      },
      "outputs": [
        {
          "output_type": "stream",
          "name": "stdout",
          "text": [
            "d$_{eff} = (0.089 +/- 0.005)\n"
          ]
        }
      ],
      "source": [
        "Va = 3.50\n",
        "dVa = 0.01\n",
        "Vp = 3.64\n",
        "dVp = 0.01\n",
        "C = popt[0]\n",
        "dC = perr[0]\n",
        "\n",
        "deff2 = Vp/(4*C*Va)\n",
        "\n",
        "ddeff2 = deff2*(dVp/Vp+dVa/Va+dC/C)\n",
        "\n",
        "print('d$_{eff} = (%0.3f +/- %0.3f)' % (deff2,ddeff2))"
      ]
    },
    {
      "cell_type": "code",
      "execution_count": 16,
      "metadata": {
        "id": "5B-5_0nEUyTG",
        "outputId": "e11aafc1-22d0-4b9e-9f4e-59a8f3cb87e2",
        "colab": {
          "base_uri": "https://localhost:8080/",
          "height": 635
        }
      },
      "outputs": [
        {
          "output_type": "stream",
          "name": "stdout",
          "text": [
            "Beta: [ 5.21477178e+00 -1.46226531e-01  1.71382592e-03]\n",
            "Beta Std Error: [0.27892425 0.02910811 0.00068143]\n",
            "Beta Covariance: [[ 1.67444829e-03 -1.72152028e-04  3.76198922e-06]\n",
            " [-1.72152028e-04  1.82359013e-05 -4.13501404e-07]\n",
            " [ 3.76198922e-06 -4.13501404e-07  9.99398177e-09]]\n",
            "Residual Variance: 46.462310818566564\n",
            "Inverse Condition #: 0.00563544999989141\n",
            "Reason(s) for Halting:\n",
            "  Sum of squares convergence\n",
            "\n",
            "Final Result: Y = (5.2148 +/- 0.2789)X^2 + (-0.1462 +/- 0.0291)X + (0.001714 +/- 0.000681)\n"
          ]
        },
        {
          "output_type": "display_data",
          "data": {
            "image/png": "[encoded data removed]",
            "text/plain": [
              "<Figure size 640x480 with 1 Axes>"
            ]
          },
          "metadata": {
            "needs_background": "light"
          }
        }
      ],
      "source": [
        "xi = df3['x']\n",
        "yi = df3['y']\n",
        "sigmaxi = df3['dx']\n",
        "sigmayi = df3['dy']\n",
        "\n",
        "##############################\n",
        "\n",
        "from scipy.odr import *\n",
        "\n",
        "def fitfunction(B, x):\n",
        "    '''Non-Linear function y = a*(x-c)^b'''\n",
        "    # B is a vector of the parameters.\n",
        "    # x is an array of the current x values.\n",
        "    # x is in the same format as the x passed to Data or RealData.\n",
        "    #\n",
        "    # Return an array in the same format as y passed to Data or RealData\n",
        "    return B[0]*x**2 + B[1]*x + B[2]\n",
        "\n",
        "linear = Model(fitfunction) # create a Model object based on the fitfuncion we have defined\n",
        "mydata = RealData(xi, yi, sx=sigmaxi, sy=sigmayi) # create a data object based on our data, include errors.\n",
        "myodr = ODR(mydata, linear, beta0=[2.11, 2.0,0.02]) # create a fitting object, based on the data, fit Model, and an intial set of parameters.\n",
        "myoutput = myodr.run()  # run the fitting process to get optimized parameters!\n",
        "\n",
        "myoutput.pprint() # print out the result of the fit\n",
        "\n",
        "# Now assign the important fit results to some more convenient variables.\n",
        "\n",
        "popt = myoutput.beta # the vector of optimized parameters\n",
        "pcov = myoutput.cov_beta # the covariance matrix\n",
        "perr = myoutput.sd_beta # the vector of ERRORS in the optimized parameters\n",
        "\n",
        "# The following lines generate upper and lower 99% \"Confidence Bands\" on the fit, for visualization\n",
        "# purposes.\n",
        "\n",
        "ps = np.random.multivariate_normal(popt,pcov,10000)\n",
        "xl = np.linspace(xi[0],xi[len(xi)-1],100)\n",
        "ysample=np.asarray([fitfunction(pl,xl) for pl in ps])\n",
        "ysample = np.nan_to_num(ysample)\n",
        "\n",
        "lower = np.percentile(ysample,16.0,axis=0)\n",
        "upper = np.percentile(ysample,84.0,axis=0)\n",
        "middle = (lower+upper)/2.0\n",
        "\n",
        "print()\n",
        "print (\"Final Result: Y = (%0.4f +/- %0.4f)X^2 + (%0.4f +/- %0.4f)X + (%0.6f +/- %0.6f)\" % (popt[0],perr[0],popt[1],perr[1],popt[2],perr[2]))\n",
        "\n",
        "plt.figure(figsize=(8, 6), dpi=80)\n",
        "plt.errorbar(xi, yi, xerr=sigmaxi, yerr=sigmayi, fmt='o', capsize=2, capthick=1)\n",
        "\n",
        "plt.plot(xl,middle)\n",
        "plt.plot(xl,lower)\n",
        "plt.plot(xl,upper)\n",
        "\n",
        "#########################\n",
        "\n",
        "plt.xlabel('Horizonatal Distance (meters)')\n",
        "plt.ylabel('Vertical Distance (meters)')\n",
        "plt.title('Determining the Electron Path (Accelerating Voltage = 2.5 kV)')\n",
        "plt.show()"
      ]
    },
    {
      "cell_type": "code",
      "execution_count": 17,
      "metadata": {
        "id": "jyH3eB85UyTH",
        "outputId": "e8112bba-50f1-4bda-a18b-d7b6126305d0",
        "colab": {
          "base_uri": "https://localhost:8080/"
        }
      },
      "outputs": [
        {
          "output_type": "stream",
          "name": "stdout",
          "text": [
            "d$_{eff} = (0.070 +/- 0.005)\n"
          ]
        }
      ],
      "source": [
        "Va = 2.50\n",
        "dVa = 0.01\n",
        "Vp = 3.64\n",
        "dVp = 0.01\n",
        "C = popt[0]\n",
        "dC = perr[0]\n",
        "\n",
        "deff3 = Vp/(4*C*Va)\n",
        "\n",
        "ddeff3 = deff2*(dVp/Vp+dVa/Va+dC/C)\n",
        "\n",
        "print('d$_{eff} = (%0.3f +/- %0.3f)' % (deff3,ddeff3))"
      ]
    },
    {
      "cell_type": "code",
      "execution_count": 18,
      "metadata": {
        "id": "rEMxhVbOUyTI",
        "outputId": "e01cbcfc-a2c2-4cbd-f8fb-0a522f5f4c1b",
        "colab": {
          "base_uri": "https://localhost:8080/"
        }
      },
      "outputs": [
        {
          "output_type": "stream",
          "name": "stdout",
          "text": [
            "Va = 4.50kV: d$_{eff} = (0.083 +/- 0.005)\n",
            "Va = 3.50kV: d$_{eff} = (0.089 +/- 0.005)\n",
            "Va = 2.50kV: d$_{eff} = (0.070 +/- 0.005)\n"
          ]
        }
      ],
      "source": [
        "# Summary of Part I\n",
        "\n",
        "print('Va = 4.50kV: d$_{eff} = (%0.3f +/- %0.3f)' % (deff1,ddeff1))\n",
        "print('Va = 3.50kV: d$_{eff} = (%0.3f +/- %0.3f)' % (deff2,ddeff2))\n",
        "print('Va = 2.50kV: d$_{eff} = (%0.3f +/- %0.3f)' % (deff3,ddeff3))"
      ]
    },
    {
      "cell_type": "markdown",
      "metadata": {
        "id": "v2Iggj2zUyTJ"
      },
      "source": [
        "# Determining the Effective Plate Separation"
      ]
    },
    {
      "cell_type": "code",
      "execution_count": 20,
      "metadata": {
        "id": "-OukXCu9UyTJ",
        "outputId": "318af050-c0df-4131-9fd7-9364da65aefc",
        "colab": {
          "base_uri": "https://localhost:8080/"
        }
      },
      "outputs": [
        {
          "output_type": "stream",
          "name": "stdout",
          "text": [
            "Plate Separation Data:\n",
            "  Vp  dVp   Va  dVa\n",
            "2.00 0.01 2.60 0.01\n",
            "2.13 0.01 2.80 0.01\n",
            "2.27 0.01 3.00 0.01\n",
            "2.40 0.01 3.20 0.01\n",
            "2.55 0.01 3.40 0.01\n",
            "2.71 0.01 3.60 0.01\n",
            "2.82 0.01 3.80 0.01\n",
            "3.01 0.01 4.00 0.01\n",
            "3.20 0.01 4.20 0.01\n",
            "3.30 0.01 4.40 0.01\n",
            "3.44 0.01 4.60 0.01\n",
            "3.55 0.01 4.81 0.01\n",
            "3.69 0.01 5.00 0.01\n"
          ]
        }
      ],
      "source": [
        "# Create a Pandas DataFrame with data for part 2\n",
        "\n",
        "# The data elements are [Vp, dVp, Va, dVa]\n",
        "\n",
        "data4 = [[2.00,0.01,2.60,0.01], [2.13,0.01,2.80,0.01], [2.27,0.01,3.00,0.01],\n",
        "         [2.40,0.01,3.20,0.01], [2.55,0.01,3.40,0.01], [2.71,0.01,3.60,0.01],\n",
        "         [2.82,0.01,3.80,0.01], [3.01,0.01,4.00,0.01], [3.20,0.01,4.20,0.01],\n",
        "         [3.30,0.01,4.40,0.01], [3.44,0.01,4.60,0.01], [3.55,0.01,4.81,0.01],\n",
        "         [3.69,0.01,5.00,0.01]]\n",
        "# create dataframe\n",
        "df4 = pd.DataFrame(data4, columns = ['Vp', 'dVp','Va','dVa'])\n",
        "\n",
        "print('Plate Separation Data:')\n",
        "print(df4.to_string(index=False))"
      ]
    },
    {
      "cell_type": "code",
      "execution_count": 21,
      "metadata": {
        "id": "FhBPZlTCUyTL",
        "outputId": "4e0b0a55-9360-47e8-8278-218cf5d4a3f6",
        "colab": {
          "base_uri": "https://localhost:8080/",
          "height": 618
        }
      },
      "outputs": [
        {
          "output_type": "stream",
          "name": "stdout",
          "text": [
            "Beta: [0.71979215 0.11577461]\n",
            "Beta Std Error: [0.00967667 0.03748654]\n",
            "Beta Covariance: [[ 2.08005503e-05 -7.90578931e-05]\n",
            " [-7.90578931e-05  3.12157691e-04]]\n",
            "Residual Variance: 4.5017013581755885\n",
            "Inverse Condition #: 0.04135954770307873\n",
            "Reason(s) for Halting:\n",
            "  Sum of squares convergence\n",
            "\n",
            "Final Result: Y = (0.719792148 +/- 0.009676666)X + (0.115774610 +/- 0.037486540)\n"
          ]
        },
        {
          "output_type": "display_data",
          "data": {
            "image/png": "[encoded data removed]",
            "text/plain": [
              "<Figure size 640x480 with 1 Axes>"
            ]
          },
          "metadata": {
            "needs_background": "light"
          }
        }
      ],
      "source": [
        "xi = df4['Va']\n",
        "yi = df4['Vp']\n",
        "sigmaxi = df4['dVa']\n",
        "sigmayi = df4['dVp']\n",
        "\n",
        "##############################\n",
        "\n",
        "from scipy.odr import *\n",
        "\n",
        "def fitfunction(B, x):\n",
        "    '''Linear function y = a*x+b'''\n",
        "    # B is a vector of the parameters.\n",
        "    # x is an array of the current x values.\n",
        "    # x is in the same format as the x passed to Data or RealData.\n",
        "    #\n",
        "    # Return an array in the same format as y passed to Data or RealData.\n",
        "    return B[0]*x+B[1]\n",
        "\n",
        "linear = Model(fitfunction) # create a Model object based on the fitfuncion we have defined\n",
        "mydata = RealData(xi, yi, sx=sigmaxi, sy=sigmayi) # create a data object based on our data, include errors.\n",
        "myodr = ODR(mydata, linear, beta0=[1., 2.]) # create a fitting object, based on the data, fit Model, and an intial set of parameters.\n",
        "myoutput = myodr.run()  # run the fitting process to get optimized parameters!\n",
        "\n",
        "myoutput.pprint() # print out the result of the fit\n",
        "\n",
        "# Now assign the important fit results to some more convenient variables.\n",
        "\n",
        "popt = myoutput.beta # the vector of optimized parameters\n",
        "pcov = myoutput.cov_beta # the covariance matrix\n",
        "perr = myoutput.sd_beta # the vector of ERRORS in the optimized parameters\n",
        "\n",
        "# The following lines generate upper and lower 99% \"Confidence Bands\" on the fit, for visualization\n",
        "# purposes.\n",
        "\n",
        "ps = np.random.multivariate_normal(popt,pcov,10000)\n",
        "xl = np.linspace(xi[0],xi[len(xi)-1],100)\n",
        "ysample=np.asarray([fitfunction(pl,xl) for pl in ps])\n",
        "\n",
        "lower = np.percentile(ysample,0.5,axis=0)\n",
        "upper = np.percentile(ysample,99.5,axis=0)\n",
        "middle = (lower+upper)/2.0\n",
        "\n",
        "print()\n",
        "print (\"Final Result: Y = (%0.9f +/- %0.9f)X + (%0.9f +/- %0.9f)\" % (popt[0],perr[0],popt[1],perr[1]))\n",
        "\n",
        "plt.figure(figsize=(8, 6), dpi=80)\n",
        "\n",
        "plt.errorbar(xi, yi, xerr=sigmaxi, yerr=sigmayi, fmt='o', capsize=2, capthick=1)\n",
        "\n",
        "plt.plot(xl,middle)\n",
        "plt.plot(xl,lower)\n",
        "plt.plot(xl,upper)\n",
        "\n",
        "#########################\n",
        "\n",
        "plt.xlabel('Accelerating Voltage (kV)')\n",
        "plt.ylabel('Plate Voltage (kV)')\n",
        "plt.title('Determining the Effective Plate Separation')\n",
        "plt.show()"
      ]
    },
    {
      "cell_type": "markdown",
      "metadata": {
        "id": "TnSUl-JZUyTP"
      },
      "source": [
        "## Analysis of Electron Path:   Accelerating Voltage = 4.5 kV\n",
        "\n",
        "First of all, we see that the fit is linear, as expected.\n",
        "\n",
        "Second, we see that the result for the slope is $(0.727 \\pm 0.006)$.  \n",
        "\n",
        "Third, we see that the y-intercept of the fit is $(0.076 \\pm 0.023)$.  This is not\n",
        "consistent with zero, as expected.\n",
        "\n",
        "The theory predicts that this slope should be equal to: $\\frac{4 \\Delta y d_{eff}}{(\\Delta x)^2}$.  Thus, we can calculate that:\n",
        "\n",
        "$d_{eff} = slope \\left( \\frac{(\\Delta x)^2}{4 \\Delta y} \\right)$\n",
        "\n",
        "and \n",
        "\n",
        "$ \\delta(d_{eff}) = d_{eff} \\left( 2 \\frac{\\delta(\\Delta x)}{\\Delta x} + \\frac{\\delta(\\Delta y)}{\\Delta y} + \\frac{\\delta(slope)}{slope} \\right) $"
      ]
    },
    {
      "cell_type": "code",
      "execution_count": 22,
      "metadata": {
        "id": "RB-6fSCWUyTQ"
      },
      "outputs": [],
      "source": [
        "slope = popt[0]\n",
        "dslope = perr[0]\n",
        "\n",
        "deltax = 0.100\n",
        "ddeltax = 0.001\n",
        "deltay = 0.020\n",
        "ddeltay = 0.001\n",
        "\n",
        "deff4 = slope*(deltax**2)/(4.0*deltay)\n",
        "ddeff4 = deff4*(2*ddeltax/deltax + ddeltay/deltay + dslope/slope)\n",
        "\n"
      ]
    },
    {
      "cell_type": "code",
      "execution_count": 23,
      "metadata": {
        "id": "palbtNRnUyTR",
        "outputId": "64700f46-83bf-4a10-a66a-00c00578a81b",
        "colab": {
          "base_uri": "https://localhost:8080/"
        }
      },
      "outputs": [
        {
          "output_type": "stream",
          "name": "stdout",
          "text": [
            "Part II: Effective distance = (0.090 +/- 0.008) m\n",
            "\n",
            "Part I:\n",
            "Va = 4.50kV: d_eff = (0.083 +/- 0.005) m\n",
            "Va = 3.50kV: d_eff = (0.089 +/- 0.005) m\n",
            "Va = 2.50kV: d_eff = (0.070 +/- 0.005) m\n"
          ]
        }
      ],
      "source": [
        "# Final Summary\n",
        "print (\"Part II: Effective distance = (%0.3f +/- %0.3f) m\" % (deff4,ddeff4))\n",
        "\n",
        "print()\n",
        "print(\"Part I:\")\n",
        "print('Va = 4.50kV: d_eff = (%0.3f +/- %0.3f) m' % (deff1,ddeff1))\n",
        "print('Va = 3.50kV: d_eff = (%0.3f +/- %0.3f) m' % (deff2,ddeff2))\n",
        "print('Va = 2.50kV: d_eff = (%0.3f +/- %0.3f) m' % (deff3,ddeff3))"
      ]
    },
    {
      "cell_type": "code",
      "execution_count": 24,
      "metadata": {
        "id": "U1UitbZ3UyTS",
        "outputId": "5bad6121-331c-4864-ae05-401f022be1b3",
        "colab": {
          "base_uri": "https://localhost:8080/",
          "height": 444
        }
      },
      "outputs": [
        {
          "output_type": "display_data",
          "data": {
            "image/png": "[encoded data removed]",
            "text/plain": [
              "<Figure size 640x480 with 1 Axes>"
            ]
          },
          "metadata": {
            "needs_background": "light"
          }
        }
      ],
      "source": [
        "x1 = ['IA','IB','IC','II']\n",
        "y1 = [deff1,deff2,deff3,deff4]\n",
        "dy1 = [ddeff1,ddeff2,ddeff3,ddeff4]\n",
        "\n",
        "plt.figure(figsize=(8, 6), dpi=80)\n",
        "\n",
        "plt.errorbar(x1, y1, yerr=dy1, fmt='o', capsize=2, capthick=1)\n",
        "\n",
        "#########################\n",
        "\n",
        "plt.xlabel('Experiment Part')\n",
        "plt.ylabel('Effective Plate Separation (m)')\n",
        "plt.title('Comparison of Parts I and II')\n",
        "plt.ylim(0,0.12)\n",
        "plt.show()"
      ]
    },
    {
      "cell_type": "code",
      "execution_count": null,
      "metadata": {
        "id": "KpVnDTVFUyTS"
      },
      "outputs": [],
      "source": [
        ""
      ]
    }
  ],
  "metadata": {
    "kernelspec": {
      "display_name": "Python 3",
      "language": "python",
      "name": "python3"
    },
    "language_info": {
      "codemirror_mode": {
        "name": "ipython",
        "version": 3
      },
      "file_extension": ".py",
      "mimetype": "text/x-python",
      "name": "python",
      "nbconvert_exporter": "python",
      "pygments_lexer": "ipython3",
      "version": "3.6.8"
    },
    "latex_envs": {
      "LaTeX_envs_menu_present": true,
      "autoclose": false,
      "autocomplete": true,
      "bibliofile": "biblio.bib",
      "cite_by": "apalike",
      "current_citInitial": 1,
      "eqLabelWithNumbers": true,
      "eqNumInitial": 1,
      "hotkeys": {
        "equation": "Ctrl-E",
        "itemize": "Ctrl-I"
      },
      "labels_anchors": false,
      "latex_user_defs": false,
      "report_style_numbering": false,
      "user_envs_cfg": false
    },
    "colab": {
      "name": "Electric_Force_Analysis_Quadratic.ipynb",
      "provenance": []
    }
  },
  "nbformat": 4,
  "nbformat_minor": 0
}